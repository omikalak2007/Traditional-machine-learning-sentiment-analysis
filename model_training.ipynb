{
 "cells": [
  {
   "cell_type": "markdown",
   "id": "4507d34c",
   "metadata": {},
   "source": [
    "Importing all the neccessary libraries and the the cleaned dataset"
   ]
  },
  {
   "cell_type": "code",
   "execution_count": null,
   "id": "801fd345",
   "metadata": {},
   "outputs": [],
   "source": [
    "from sklearn.model_selection import train_test_split\n",
    "from sklearn.feature_extraction.text import CountVectorizer\n",
    "import pandas as pd\n",
    "from sklearn.feature_extraction.text import TfidfVectorizer\n",
    "from sklearn.naive_bayes import MultinomialNB\n",
    "from sklearn.linear_model import LogisticRegression\n",
    "\n",
    "df = pd.read_csv(\"cleaned_imdb_dataset.csv\")"
   ]
  },
  {
   "cell_type": "markdown",
   "id": "aea04567",
   "metadata": {},
   "source": [
    "Getting the first 35000 records to train the model because training the model with 50000 records is resource intensive"
   ]
  },
  {
   "cell_type": "code",
   "execution_count": 2,
   "id": "446361e4",
   "metadata": {},
   "outputs": [],
   "source": [
    "df_new = df.iloc[:35000]"
   ]
  },
  {
   "cell_type": "code",
   "execution_count": 3,
   "id": "4d84b181",
   "metadata": {},
   "outputs": [
    {
     "data": {
      "text/html": [
       "<div>\n",
       "<style scoped>\n",
       "    .dataframe tbody tr th:only-of-type {\n",
       "        vertical-align: middle;\n",
       "    }\n",
       "\n",
       "    .dataframe tbody tr th {\n",
       "        vertical-align: top;\n",
       "    }\n",
       "\n",
       "    .dataframe thead th {\n",
       "        text-align: right;\n",
       "    }\n",
       "</style>\n",
       "<table border=\"1\" class=\"dataframe\">\n",
       "  <thead>\n",
       "    <tr style=\"text-align: right;\">\n",
       "      <th></th>\n",
       "      <th>Unnamed: 0</th>\n",
       "      <th>review</th>\n",
       "      <th>sentiment</th>\n",
       "    </tr>\n",
       "  </thead>\n",
       "  <tbody>\n",
       "    <tr>\n",
       "      <th>0</th>\n",
       "      <td>0</td>\n",
       "      <td>one reviewer mentioned watching 1 oz episode y...</td>\n",
       "      <td>1</td>\n",
       "    </tr>\n",
       "    <tr>\n",
       "      <th>1</th>\n",
       "      <td>1</td>\n",
       "      <td>wonderful little production br br filming tech...</td>\n",
       "      <td>1</td>\n",
       "    </tr>\n",
       "    <tr>\n",
       "      <th>2</th>\n",
       "      <td>2</td>\n",
       "      <td>thought wonderful way spend time hot summer we...</td>\n",
       "      <td>1</td>\n",
       "    </tr>\n",
       "    <tr>\n",
       "      <th>3</th>\n",
       "      <td>3</td>\n",
       "      <td>basically there family little boy jake think t...</td>\n",
       "      <td>0</td>\n",
       "    </tr>\n",
       "    <tr>\n",
       "      <th>4</th>\n",
       "      <td>4</td>\n",
       "      <td>petter matteis love time money visually stunni...</td>\n",
       "      <td>1</td>\n",
       "    </tr>\n",
       "    <tr>\n",
       "      <th>...</th>\n",
       "      <td>...</td>\n",
       "      <td>...</td>\n",
       "      <td>...</td>\n",
       "    </tr>\n",
       "    <tr>\n",
       "      <th>34995</th>\n",
       "      <td>34995</td>\n",
       "      <td>awful awful awful show real world issue dealt ...</td>\n",
       "      <td>0</td>\n",
       "    </tr>\n",
       "    <tr>\n",
       "      <th>34996</th>\n",
       "      <td>34996</td>\n",
       "      <td>like action movie softspot b flick bad dialogu...</td>\n",
       "      <td>0</td>\n",
       "    </tr>\n",
       "    <tr>\n",
       "      <th>34997</th>\n",
       "      <td>34997</td>\n",
       "      <td>begin nice note falter quickly let expectation...</td>\n",
       "      <td>0</td>\n",
       "    </tr>\n",
       "    <tr>\n",
       "      <th>34998</th>\n",
       "      <td>34998</td>\n",
       "      <td>aardman next pixar aardman animation prof anim...</td>\n",
       "      <td>1</td>\n",
       "    </tr>\n",
       "    <tr>\n",
       "      <th>34999</th>\n",
       "      <td>34999</td>\n",
       "      <td>movie made laugh much bloody joke tell truth u...</td>\n",
       "      <td>0</td>\n",
       "    </tr>\n",
       "  </tbody>\n",
       "</table>\n",
       "<p>35000 rows × 3 columns</p>\n",
       "</div>"
      ],
      "text/plain": [
       "       Unnamed: 0                                             review  \\\n",
       "0               0  one reviewer mentioned watching 1 oz episode y...   \n",
       "1               1  wonderful little production br br filming tech...   \n",
       "2               2  thought wonderful way spend time hot summer we...   \n",
       "3               3  basically there family little boy jake think t...   \n",
       "4               4  petter matteis love time money visually stunni...   \n",
       "...           ...                                                ...   \n",
       "34995       34995  awful awful awful show real world issue dealt ...   \n",
       "34996       34996  like action movie softspot b flick bad dialogu...   \n",
       "34997       34997  begin nice note falter quickly let expectation...   \n",
       "34998       34998  aardman next pixar aardman animation prof anim...   \n",
       "34999       34999  movie made laugh much bloody joke tell truth u...   \n",
       "\n",
       "       sentiment  \n",
       "0              1  \n",
       "1              1  \n",
       "2              1  \n",
       "3              0  \n",
       "4              1  \n",
       "...          ...  \n",
       "34995          0  \n",
       "34996          0  \n",
       "34997          0  \n",
       "34998          1  \n",
       "34999          0  \n",
       "\n",
       "[35000 rows x 3 columns]"
      ]
     },
     "execution_count": 3,
     "metadata": {},
     "output_type": "execute_result"
    }
   ],
   "source": [
    "\n",
    "df_new"
   ]
  },
  {
   "cell_type": "markdown",
   "id": "83a4ba11",
   "metadata": {},
   "source": [
    "Splitting the 25000 records into train set and test set, the train set is used to train the model and the test set is used to see the models accuracy and whether the model is underfitting or overfitting"
   ]
  },
  {
   "cell_type": "code",
   "execution_count": 4,
   "id": "cc3f4609",
   "metadata": {},
   "outputs": [],
   "source": [
    "X_train,X_test,y_train,y_test = train_test_split(df_new['review'],df_new['sentiment'],test_size=0.20)"
   ]
  },
  {
   "cell_type": "markdown",
   "id": "8f2462cf",
   "metadata": {},
   "source": [
    "Here we are using two methods to turn words into vectors , those are TFIDF and bag of words, each method have its strengths and weaknesses and the most most suitable method will be used based on model accuracy"
   ]
  },
  {
   "cell_type": "code",
   "execution_count": 5,
   "id": "ec51e2ef",
   "metadata": {},
   "outputs": [],
   "source": [
    "bow = CountVectorizer()\n",
    "X_train_bow = bow.fit_transform(X_train)\n",
    "X_test_bow = bow.transform(X_test)"
   ]
  },
  {
   "cell_type": "code",
   "execution_count": 6,
   "id": "77ec4e80",
   "metadata": {},
   "outputs": [],
   "source": [
    "tfidf = TfidfVectorizer()\n",
    "X_train_tfidf = tfidf.fit_transform(X_train)\n",
    "X_test_tfidf = tfidf.transform(X_test)"
   ]
  },
  {
   "cell_type": "markdown",
   "id": "fd404ea2",
   "metadata": {},
   "source": [
    "In this a naive bayes model will be trained and the accuracy of the model will be tested by giving the model to predict the output for the test data. Keep in mind that two naive bayes models are trained to see whether TFIDF or bow gives the best accuracy"
   ]
  },
  {
   "cell_type": "code",
   "execution_count": 7,
   "id": "540eaed1",
   "metadata": {},
   "outputs": [],
   "source": [
    "nb_model_tfidf = MultinomialNB().fit(X_train_tfidf, y_train)\n",
    "nb_model_bow   = MultinomialNB().fit(X_train_bow, y_train)\n"
   ]
  },
  {
   "cell_type": "markdown",
   "id": "c40a0e85",
   "metadata": {},
   "source": [
    "confusion_matrix,accuracy_score,classification_report are imported to see the performance of the models"
   ]
  },
  {
   "cell_type": "code",
   "execution_count": 8,
   "id": "cf08a740",
   "metadata": {},
   "outputs": [],
   "source": [
    "from sklearn.metrics import confusion_matrix,accuracy_score,classification_report"
   ]
  },
  {
   "cell_type": "markdown",
   "id": "477b590f",
   "metadata": {},
   "source": [
    "Predicting the output for the test data "
   ]
  },
  {
   "cell_type": "code",
   "execution_count": 9,
   "id": "9362ed39",
   "metadata": {},
   "outputs": [],
   "source": [
    "y_pred_bow = nb_model_bow.predict(X_test_bow)\n",
    "y_pred_tfidf = nb_model_tfidf.predict(X_test_tfidf)"
   ]
  },
  {
   "cell_type": "markdown",
   "id": "0a22c8e0",
   "metadata": {},
   "source": [
    "The prediction is then used to calculate the accuracy score of the bow vectorised model and tfidf vectorised model"
   ]
  },
  {
   "cell_type": "code",
   "execution_count": 10,
   "id": "3acd552c",
   "metadata": {},
   "outputs": [
    {
     "name": "stdout",
     "output_type": "stream",
     "text": [
      "BOW accuracy score: 0.8601428571428571\n"
     ]
    }
   ],
   "source": [
    "print(\"BOW accuracy score:\",accuracy_score(y_test,y_pred_bow))"
   ]
  },
  {
   "cell_type": "code",
   "execution_count": 11,
   "id": "d7088a4d",
   "metadata": {},
   "outputs": [
    {
     "name": "stdout",
     "output_type": "stream",
     "text": [
      "tfidf accuracy score: 0.8684285714285714\n"
     ]
    }
   ],
   "source": [
    "print(\"tfidf accuracy score:\",accuracy_score(y_test,y_pred_tfidf))"
   ]
  },
  {
   "cell_type": "markdown",
   "id": "c3d38bee",
   "metadata": {},
   "source": [
    "Based on the above the TFIDF vectorised model has higher accuracy than the bow vectorised model therefore we can use the tfidf model"
   ]
  },
  {
   "cell_type": "markdown",
   "id": "082c181d",
   "metadata": {},
   "source": [
    "Experimenting with our ml model to see whether it's performing well with unknown data"
   ]
  },
  {
   "cell_type": "code",
   "execution_count": 12,
   "id": "8a6f6f32",
   "metadata": {},
   "outputs": [],
   "source": [
    "text = [\"Best movie ever\"]\n",
    "text_number = tfidf.transform(text)\n",
    "output = nb_model_bow.predict(text_number)"
   ]
  },
  {
   "cell_type": "code",
   "execution_count": 13,
   "id": "8011d2be",
   "metadata": {},
   "outputs": [
    {
     "name": "stdout",
     "output_type": "stream",
     "text": [
      "[1]\n"
     ]
    }
   ],
   "source": [
    "print(output)"
   ]
  },
  {
   "cell_type": "markdown",
   "id": "b3ca19e5",
   "metadata": {},
   "source": [
    "Training a logistic regression model to see whether it's better than the naive bayes model with both the tfidf and bow vectorised test data"
   ]
  },
  {
   "cell_type": "code",
   "execution_count": 14,
   "id": "e884f794",
   "metadata": {},
   "outputs": [],
   "source": [
    "from sklearn.linear_model import LogisticRegression\n",
    "model = LogisticRegression(solver='liblinear', random_state=42, max_iter=1000)\n",
    "lg_tfidf = model.fit(X_train_tfidf,y_train)\n",
    "lg_bow = model.fit(X_train_bow,y_train)"
   ]
  },
  {
   "cell_type": "code",
   "execution_count": 15,
   "id": "788b52c2",
   "metadata": {},
   "outputs": [],
   "source": [
    "lg_pred_bow = lg_bow.predict(X_test_bow)\n",
    "lg_pred_tfidf = lg_tfidf.predict(X_test_tfidf)"
   ]
  },
  {
   "cell_type": "code",
   "execution_count": 16,
   "id": "f4bd53cf",
   "metadata": {},
   "outputs": [
    {
     "name": "stdout",
     "output_type": "stream",
     "text": [
      "BOW accuracy score for logistic regression: 0.8814285714285715\n",
      "tfidf accuracy score for logistic regression: 0.87\n"
     ]
    }
   ],
   "source": [
    "print(\"BOW accuracy score for logistic regression:\",accuracy_score(y_test,lg_pred_bow))\n",
    "print(\"tfidf accuracy score for logistic regression:\",accuracy_score(y_test,lg_pred_tfidf))"
   ]
  },
  {
   "cell_type": "markdown",
   "id": "e9fa2571",
   "metadata": {},
   "source": [
    "Based on the above the bow version of the logistic regression model has more accuracy than the tfidf version of the naive bayes model therefore we'll use the logistic regression model for out reasearch"
   ]
  },
  {
   "cell_type": "code",
   "execution_count": 17,
   "id": "208f86e5",
   "metadata": {},
   "outputs": [
    {
     "data": {
      "text/plain": [
       "array([0])"
      ]
     },
     "execution_count": 17,
     "metadata": {},
     "output_type": "execute_result"
    }
   ],
   "source": [
    "text = [\"This movie is a piece of shit\"]\n",
    "text_number = bow.transform(text)\n",
    "output = lg_bow.predict(text_number)\n",
    "output"
   ]
  },
  {
   "cell_type": "code",
   "execution_count": 18,
   "id": "c7afc243",
   "metadata": {},
   "outputs": [],
   "source": [
    "import pickle\n",
    "\n",
    "with open(\"sentiment_analysis_ml_model.pkl\", \"wb\") as f:\n",
    "    pickle.dump(lg_bow, f)"
   ]
  },
  {
   "cell_type": "code",
   "execution_count": 19,
   "id": "0b495e0e",
   "metadata": {},
   "outputs": [],
   "source": [
    "with open(\"BOW_vectoriser.pkl\", \"wb\") as f:\n",
    "    pickle.dump(bow, f)"
   ]
  }
 ],
 "metadata": {
  "kernelspec": {
   "display_name": "Sentiment analysis research",
   "language": "python",
   "name": "python3"
  },
  "language_info": {
   "codemirror_mode": {
    "name": "ipython",
    "version": 3
   },
   "file_extension": ".py",
   "mimetype": "text/x-python",
   "name": "python",
   "nbconvert_exporter": "python",
   "pygments_lexer": "ipython3",
   "version": "3.12.7"
  }
 },
 "nbformat": 4,
 "nbformat_minor": 5
}
